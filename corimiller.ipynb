{
 "cells": [
  {
   "cell_type": "code",
   "execution_count": 1,
   "id": "183373e7-c39a-4b12-9b6e-c5b8618d27df",
   "metadata": {},
   "outputs": [],
   "source": [
    "grade = 77"
   ]
  },
  {
   "cell_type": "code",
   "execution_count": 2,
   "id": "46621494-78e2-483d-8899-37164585cb99",
   "metadata": {},
   "outputs": [
    {
     "name": "stdout",
     "output_type": "stream",
     "text": [
      "Not A or B\n"
     ]
    }
   ],
   "source": [
    "if grade >= 90:\n",
    "    print('A')\n",
    "elif grade >= 80:\n",
    "    print('B')\n",
    "else:\n",
    "    print('Not A or B')"
   ]
  },
  {
   "cell_type": "code",
   "execution_count": 3,
   "id": "50400473-fc08-401b-9393-07dd904cf077",
   "metadata": {},
   "outputs": [],
   "source": [
    "values = [47, 95, 88, 73, 88, 84]"
   ]
  },
  {
   "cell_type": "code",
   "execution_count": 4,
   "id": "c0411c96-9eb9-4a20-8f87-aa8859cc81b0",
   "metadata": {},
   "outputs": [
    {
     "data": {
      "text/plain": [
       "6"
      ]
     },
     "execution_count": 4,
     "metadata": {},
     "output_type": "execute_result"
    }
   ],
   "source": [
    "len(values)"
   ]
  },
  {
   "cell_type": "code",
   "execution_count": 5,
   "id": "122903d6-a3e6-476b-bded-59192a742f11",
   "metadata": {},
   "outputs": [
    {
     "data": {
      "text/plain": [
       "475"
      ]
     },
     "execution_count": 5,
     "metadata": {},
     "output_type": "execute_result"
    }
   ],
   "source": [
    "sum(values)"
   ]
  },
  {
   "cell_type": "code",
   "execution_count": 6,
   "id": "3eadf1a5-37c5-4ce2-8ced-febd2c03a8bc",
   "metadata": {},
   "outputs": [
    {
     "data": {
      "text/plain": [
       "79.16666666666667"
      ]
     },
     "execution_count": 6,
     "metadata": {},
     "output_type": "execute_result"
    }
   ],
   "source": [
    "sum(values)/len(values)"
   ]
  },
  {
   "cell_type": "code",
   "execution_count": 7,
   "id": "0f6e53ee-5009-4cb2-a68f-ac8b7363fe15",
   "metadata": {},
   "outputs": [],
   "source": [
    "import statistics"
   ]
  },
  {
   "cell_type": "code",
   "execution_count": 8,
   "id": "0e5e2626-62df-40e9-ae93-fa1eaabbe670",
   "metadata": {},
   "outputs": [
    {
     "data": {
      "text/plain": [
       "79.16666666666667"
      ]
     },
     "execution_count": 8,
     "metadata": {},
     "output_type": "execute_result"
    }
   ],
   "source": [
    "statistics.mean(values)"
   ]
  },
  {
   "cell_type": "code",
   "execution_count": 9,
   "id": "baee78fa-22ad-4ed6-bc19-711435402290",
   "metadata": {},
   "outputs": [
    {
     "data": {
      "text/plain": [
       "86.0"
      ]
     },
     "execution_count": 9,
     "metadata": {},
     "output_type": "execute_result"
    }
   ],
   "source": [
    "statistics.median(values)"
   ]
  },
  {
   "cell_type": "code",
   "execution_count": 10,
   "id": "0af9ea4e-c738-44e0-b37e-12f6294a0eea",
   "metadata": {},
   "outputs": [
    {
     "data": {
      "text/plain": [
       "88"
      ]
     },
     "execution_count": 10,
     "metadata": {},
     "output_type": "execute_result"
    }
   ],
   "source": [
    "statistics.mode(values)"
   ]
  },
  {
   "cell_type": "code",
   "execution_count": 11,
   "id": "af274ecd-e10f-40f1-88f8-fb1b53fefb82",
   "metadata": {},
   "outputs": [],
   "source": [
    "# number of loans in default for missouri colleges. Below calculates the average number of loans in default. \n",
    "loans = (1, 29, 10, 61, 178, 433, 2, 7, 54, 41,87,2,33,2,46,165,11,2,130,140,52,121,76,82,61,3,26,82,158,13,195,433,2,7,54,41,87,2,33,2,46,165,11,2,130,140,52,121,76,82,61,3,26,82,158,13,195)"
   ]
  },
  {
   "cell_type": "code",
   "execution_count": 12,
   "id": "17d7cca5-2a4c-4af7-8a3d-d690068b4e6c",
   "metadata": {},
   "outputs": [
    {
     "data": {
      "text/plain": [
       "57"
      ]
     },
     "execution_count": 12,
     "metadata": {},
     "output_type": "execute_result"
    }
   ],
   "source": [
    "len(loans)"
   ]
  },
  {
   "cell_type": "code",
   "execution_count": 13,
   "id": "d33a2d11-3cae-426a-8a92-f7b586a88a50",
   "metadata": {},
   "outputs": [
    {
     "data": {
      "text/plain": [
       "4327"
      ]
     },
     "execution_count": 13,
     "metadata": {},
     "output_type": "execute_result"
    }
   ],
   "source": [
    "sum(loans)"
   ]
  },
  {
   "cell_type": "code",
   "execution_count": 14,
   "id": "9e1a565b-b937-476c-9c7c-aee90ab5b50c",
   "metadata": {},
   "outputs": [],
   "source": [
    "import statistics"
   ]
  },
  {
   "cell_type": "code",
   "execution_count": 15,
   "id": "94a3cfdf-07dd-46c4-9cd7-edb255dbaab6",
   "metadata": {},
   "outputs": [
    {
     "data": {
      "text/plain": [
       "75.91228070175438"
      ]
     },
     "execution_count": 15,
     "metadata": {},
     "output_type": "execute_result"
    }
   ],
   "source": [
    "statistics.mean(loans)"
   ]
  },
  {
   "cell_type": "code",
   "execution_count": 16,
   "id": "2cfb5944-9e17-48cf-b6ab-2055853fb7ee",
   "metadata": {},
   "outputs": [
    {
     "data": {
      "text/plain": [
       "52"
      ]
     },
     "execution_count": 16,
     "metadata": {},
     "output_type": "execute_result"
    }
   ],
   "source": [
    "statistics.median(loans)"
   ]
  },
  {
   "cell_type": "code",
   "execution_count": 17,
   "id": "f5d7885d-201b-46a9-96cb-4f82db3fc754",
   "metadata": {},
   "outputs": [
    {
     "data": {
      "text/plain": [
       "2"
      ]
     },
     "execution_count": 17,
     "metadata": {},
     "output_type": "execute_result"
    }
   ],
   "source": [
    "statistics.mode(loans)"
   ]
  },
  {
   "cell_type": "code",
   "execution_count": null,
   "id": "6f556853-5892-4e86-81d7-ab9293734cee",
   "metadata": {},
   "outputs": [],
   "source": []
  }
 ],
 "metadata": {
  "kernelspec": {
   "display_name": "Python 3 (ipykernel)",
   "language": "python",
   "name": "python3"
  },
  "language_info": {
   "codemirror_mode": {
    "name": "ipython",
    "version": 3
   },
   "file_extension": ".py",
   "mimetype": "text/x-python",
   "name": "python",
   "nbconvert_exporter": "python",
   "pygments_lexer": "ipython3",
   "version": "3.9.7"
  }
 },
 "nbformat": 4,
 "nbformat_minor": 5
}

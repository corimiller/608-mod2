{
 "cells": [
  {
   "cell_type": "code",
   "execution_count": 2,
   "id": "5560ac1b-a315-4c60-955b-772293944e7f",
   "metadata": {},
   "outputs": [],
   "source": [
    "# Cori Miller - Project 2 Bonus\n",
    "# 01/21/2022"
   ]
  },
  {
   "cell_type": "code",
   "execution_count": 3,
   "id": "c7dcd064-3c01-4ee4-8e64-7722a076d600",
   "metadata": {},
   "outputs": [],
   "source": [
    "# Number of federal stafford loans in default by college"
   ]
  },
  {
   "cell_type": "code",
   "execution_count": 4,
   "id": "46d77dcf-d26a-4687-a66f-b6d6f3386930",
   "metadata": {},
   "outputs": [],
   "source": [
    "defaultrate = (1, 29, 10, 61, 178, 433, 2, 7, 54, 41,87,2,33,2,\n",
    "               46,165,11,2,130,140,52,121,76,82,61,3,26,82,158,\n",
    "               13,195,433, 2, 7, 54, 41,87,2,33,2,46,165,11,2,\n",
    "               130,140,52,121,76,82,61,3,26,82,158,13,195)"
   ]
  },
  {
   "cell_type": "code",
   "execution_count": 5,
   "id": "74cb1745-3ff2-4f05-8df9-3e1a736bf551",
   "metadata": {},
   "outputs": [],
   "source": [
    "# total number of federal stafford loans by college"
   ]
  },
  {
   "cell_type": "code",
   "execution_count": 6,
   "id": "4392a5af-bc59-4250-9084-145f8518672c",
   "metadata": {},
   "outputs": [],
   "source": [
    "totalloans = (14, 560, 62, 1106, 2880, 4848, 42, 103, 584, 318, \n",
    "              989, 35,691,442,484,43,601,1387,189,305,760,785,\n",
    "              3421,2172,1323,179,472,1582,512,1151,724,189,305,\n",
    "              760,785,3421,2172,1323,179,472,1582,512,1151,724)"
   ]
  },
  {
   "cell_type": "code",
   "execution_count": 7,
   "id": "09e87aa0-bebf-4cab-96e7-4278e7f7936a",
   "metadata": {},
   "outputs": [
    {
     "data": {
      "text/plain": [
       "4327"
      ]
     },
     "execution_count": 7,
     "metadata": {},
     "output_type": "execute_result"
    }
   ],
   "source": [
    "sum(defaultrate)"
   ]
  },
  {
   "cell_type": "code",
   "execution_count": 8,
   "id": "c6f0ca22-d2f6-424c-9c87-9e5af1e3cb27",
   "metadata": {},
   "outputs": [
    {
     "data": {
      "text/plain": [
       "42339"
      ]
     },
     "execution_count": 8,
     "metadata": {},
     "output_type": "execute_result"
    }
   ],
   "source": [
    "sum(totalloans)"
   ]
  },
  {
   "cell_type": "code",
   "execution_count": 9,
   "id": "407c9467-d75c-4800-9ce8-534d2397428d",
   "metadata": {},
   "outputs": [
    {
     "data": {
      "text/plain": [
       "0.10219891825503673"
      ]
     },
     "execution_count": 9,
     "metadata": {},
     "output_type": "execute_result"
    }
   ],
   "source": [
    "sum(defaultrate) / sum(totalloans)"
   ]
  },
  {
   "cell_type": "code",
   "execution_count": 10,
   "id": "f2ec5bf5-8fce-40b5-9d31-57caccffd07c",
   "metadata": {},
   "outputs": [],
   "source": [
    "import statistics"
   ]
  },
  {
   "cell_type": "code",
   "execution_count": 14,
   "id": "e15028cd-81d3-45e0-85bf-e6edd74dd692",
   "metadata": {},
   "outputs": [
    {
     "data": {
      "text/plain": [
       "962.25"
      ]
     },
     "execution_count": 14,
     "metadata": {},
     "output_type": "execute_result"
    }
   ],
   "source": [
    "statistics.mean(totalloans)"
   ]
  },
  {
   "cell_type": "code",
   "execution_count": 15,
   "id": "b0383c17-432c-4f21-9d3e-2a8461e5c65c",
   "metadata": {},
   "outputs": [
    {
     "data": {
      "text/plain": [
       "646.0"
      ]
     },
     "execution_count": 15,
     "metadata": {},
     "output_type": "execute_result"
    }
   ],
   "source": [
    "statistics.median(totalloans)"
   ]
  },
  {
   "cell_type": "code",
   "execution_count": 16,
   "id": "8e79f896-db38-4cf9-bf0e-be5f686ba9b0",
   "metadata": {},
   "outputs": [
    {
     "data": {
      "text/plain": [
       "189"
      ]
     },
     "execution_count": 16,
     "metadata": {},
     "output_type": "execute_result"
    }
   ],
   "source": [
    "statistics.mode(totalloans)"
   ]
  },
  {
   "cell_type": "code",
   "execution_count": 17,
   "id": "38068654-6aa3-4585-907f-ed803d43cd33",
   "metadata": {},
   "outputs": [
    {
     "data": {
      "text/plain": [
       "962.25"
      ]
     },
     "execution_count": 17,
     "metadata": {},
     "output_type": "execute_result"
    }
   ],
   "source": [
    "sum(totalloans)/len(totalloans)"
   ]
  },
  {
   "cell_type": "code",
   "execution_count": null,
   "id": "edcf2770-1446-4a19-89ca-b838e3062266",
   "metadata": {},
   "outputs": [],
   "source": []
  }
 ],
 "metadata": {
  "kernelspec": {
   "display_name": "Python 3 (ipykernel)",
   "language": "python",
   "name": "python3"
  },
  "language_info": {
   "codemirror_mode": {
    "name": "ipython",
    "version": 3
   },
   "file_extension": ".py",
   "mimetype": "text/x-python",
   "name": "python",
   "nbconvert_exporter": "python",
   "pygments_lexer": "ipython3",
   "version": "3.9.7"
  }
 },
 "nbformat": 4,
 "nbformat_minor": 5
}
